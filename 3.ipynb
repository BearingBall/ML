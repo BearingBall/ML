{
 "cells": [
  {
   "cell_type": "code",
   "execution_count": 2,
   "metadata": {},
   "outputs": [],
   "source": [
    "from sklearn.datasets import fetch_openml\n",
    "\n",
    "from sklearn.model_selection import train_test_split\n",
    "from sklearn.utils import check_random_state\n",
    "from sklearn.preprocessing import StandardScaler\n",
    "from sklearn.model_selection import KFold\n",
    "from sklearn.metrics import accuracy_score\n",
    "\n",
    "from sklearn.linear_model import LogisticRegression\n",
    "from sklearn.neighbors import KNeighborsClassifier\n",
    "from sklearn.svm import SVC\n",
    "from sklearn.tree import DecisionTreeClassifier\n",
    "\n",
    "import numpy as np\n",
    "\n",
    "X, y = fetch_openml(\"mnist_784\", version=1, return_X_y=True, as_frame=False)"
   ]
  },
  {
   "cell_type": "code",
   "execution_count": 10,
   "metadata": {},
   "outputs": [
    {
     "name": "stdout",
     "output_type": "stream",
     "text": [
      "Train_test:  63000.0\n",
      "Val:  7000.0\n"
     ]
    }
   ],
   "source": [
    "val_samples = y.shape[0] * 0.1\n",
    "train_test_samples = y.shape[0] * 0.9\n",
    "kf = KFold(n_splits=4)\n",
    "\n",
    "random_state = check_random_state(0)\n",
    "permutation = random_state.permutation(X.shape[0])\n",
    "X = X[permutation]\n",
    "y = y[permutation]\n",
    "X = X.reshape((X.shape[0], -1))\n",
    "\n",
    "X_train_test, X_val, y_train_test, y_val = train_test_split( X, y, train_size=int(train_test_samples), test_size=int(val_samples))\n",
    "\n",
    "names = [\n",
    "    \"Logistic Regression\",\n",
    "    \"Nearest Neighbors\",\n",
    "    \"Linear SVM\",\n",
    "    \"Decision Tree\",\n",
    "]\n",
    "\n",
    "classifiers = [\n",
    "    LogisticRegression(C=50.0 / train_test_samples, penalty=\"l1\", solver=\"saga\", tol=0.1),\n",
    "    KNeighborsClassifier(3),\n",
    "    SVC(kernel=\"linear\", C=0.025),\n",
    "    DecisionTreeClassifier(max_depth=5),\n",
    "]\n",
    "\n",
    "scaler = StandardScaler()\n",
    "\n",
    "print(\"Train_test: \", train_test_samples)\n",
    "print(\"Val: \", val_samples)"
   ]
  },
  {
   "cell_type": "markdown",
   "metadata": {},
   "source": [
    "2 класса\n",
    "линейный свм (без кернел)\n",
    "решающие признаки на дереве вывод\n",
    "макс качество свм 0,95+"
   ]
  },
  {
   "cell_type": "markdown",
   "metadata": {},
   "source": [
    "l1 and l2\n",
    "опорные вектора svm\n",
    "task найти опорные вектора по обуч. свм и выборке"
   ]
  },
  {
   "cell_type": "markdown",
   "metadata": {},
   "source": []
  },
  {
   "cell_type": "code",
   "execution_count": 11,
   "metadata": {},
   "outputs": [
    {
     "name": "stdout",
     "output_type": "stream",
     "text": [
      "Test accuracy of  Logistic Regression  is:  0.819\n",
      "Test accuracy of  Nearest Neighbors  is:  0.944\n",
      "Test accuracy of  Linear SVM  is:  0.939\n",
      "Test accuracy of  Decision Tree  is:  0.663\n"
     ]
    }
   ],
   "source": [
    "for i, clf in enumerate(classifiers): #l1 and l2\n",
    "    accuracys = []\n",
    "    for train_index, test_index in kf.split(X_train_test):\n",
    "        X_train, X_test = X_train_test[train_index], X_train_test[test_index]\n",
    "        y_train, y_test = y_train_test[train_index], y_train_test[test_index]\n",
    "        X_train = scaler.fit_transform(X_train)\n",
    "        X_test = scaler.transform(X_test)\n",
    "\n",
    "        clf.random_state = 42\n",
    "        clf.fit(X_train, y_train)\n",
    "        accuracys.append(accuracy_score(y_test, clf.predict(X_test)))\n",
    "    print(\"Test accuracy of \", names[i],\" is:  %.3f\" % np.mean(np.asarray(accuracys)))"
   ]
  },
  {
   "cell_type": "code",
   "execution_count": 9,
   "metadata": {},
   "outputs": [
    {
     "name": "stdout",
     "output_type": "stream",
     "text": [
      "<bound method BaseSVC._get_coef of SVC(C=0.025, kernel='linear')>\n"
     ]
    }
   ],
   "source": [
    "print(classifiers[2]._get_coef)"
   ]
  },
  {
   "cell_type": "code",
   "execution_count": null,
   "metadata": {},
   "outputs": [],
   "source": []
  },
  {
   "cell_type": "markdown",
   "metadata": {},
   "source": [
    "Full mnist accuracy\n",
    "Test accuracy of  Logistic Regression  is:  0.819\n",
    "Test accuracy of  Nearest Neighbors  is:  0.944\n",
    "Test accuracy of  Linear SVM  is:  0.939\n",
    "Test accuracy of  Decision Tree  is:  0.663"
   ]
  },
  {
   "cell_type": "markdown",
   "metadata": {},
   "source": []
  }
 ],
 "metadata": {
  "interpreter": {
   "hash": "b2d769b0611aaa6c068c0119a1ada538e3a78d93ac59b96a484ef3c5a008ee0c"
  },
  "kernelspec": {
   "display_name": "Python 3.8.6 64-bit (system)",
   "name": "python3"
  },
  "language_info": {
   "codemirror_mode": {
    "name": "ipython",
    "version": 3
   },
   "file_extension": ".py",
   "mimetype": "text/x-python",
   "name": "python",
   "nbconvert_exporter": "python",
   "pygments_lexer": "ipython3",
   "version": "3.8.6"
  },
  "orig_nbformat": 4
 },
 "nbformat": 4,
 "nbformat_minor": 2
}
